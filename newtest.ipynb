{
 "cells": [
  {
   "cell_type": "code",
   "execution_count": 1,
   "id": "initial_id",
   "metadata": {
    "collapsed": true,
    "ExecuteTime": {
     "end_time": "2024-06-10T12:30:10.565101600Z",
     "start_time": "2024-06-10T12:30:07.424773600Z"
    }
   },
   "outputs": [],
   "source": [
    "import warnings\n",
    "warnings.filterwarnings('ignore')\n",
    "\n",
    "import os\n",
    "import random\n",
    "import numpy as np\n",
    "import pandas as pd\n",
    "import tensorflow as tf\n",
    "from keras.losses import mean_absolute_error as mae, mean_squared_error as mse\n",
    "\n",
    "from models import AE\n",
    "from utils import *\n",
    "\n",
    "# fix seed\n",
    "def seed_everything(seed=42):\n",
    "    random.seed(seed)\n",
    "    np.random.seed(seed)\n",
    "    os.environ[\"PYTHONHASHSEED\"] = str(seed)\n",
    "    tf.random.set_seed(seed)"
   ]
  },
  {
   "cell_type": "code",
   "execution_count": 2,
   "outputs": [
    {
     "name": "stdout",
     "output_type": "stream",
     "text": [
      "Train: (26280, 24, 1)\n",
      "Val: (8760, 24, 1)\n",
      "Test: (3601, 24, 1)\n"
     ]
    }
   ],
   "source": [
    "# make dataset\n",
    "df = pd.read_csv('./datasets/JNU_elec.csv').set_index('timestamp')\n",
    "seq_data = create_seq(df, seq_len=24)\n",
    "\n",
    "# split\n",
    "train = seq_data[:(365 * 24 * 3)]\n",
    "val = seq_data[(365 * 24 * 3):(365 * 24 * 4)]\n",
    "test = seq_data[(365 * 24 * 4):]\n",
    "\n",
    "print(f'Train: {train.shape}')\n",
    "print(f'Val: {val.shape}')\n",
    "print(f'Test: {test.shape}')"
   ],
   "metadata": {
    "collapsed": false,
    "ExecuteTime": {
     "end_time": "2024-06-10T12:30:12.908852100Z",
     "start_time": "2024-06-10T12:30:10.565101600Z"
    }
   },
   "id": "6fd2c5cdfdc9b3d6"
  },
  {
   "cell_type": "code",
   "execution_count": 3,
   "outputs": [],
   "source": [
    "# Min-Max normalize\n",
    "min_val, max_val = np.min(train), np.max(train)\n",
    "\n",
    "train_norm = minmax(train, min_val, max_val)\n",
    "val_norm = minmax(val, min_val, max_val)\n",
    "test_norm = minmax(test, min_val, max_val)\n",
    "\n",
    "# make tensorflow dataset\n",
    "train_dataset = tf.data.Dataset.from_tensor_slices((train_norm, train_norm))\n",
    "train_dataset = train_dataset.batch(batch_size=64).prefetch(buffer_size=tf.data.experimental.AUTOTUNE)\n",
    "\n",
    "val_dataset = tf.data.Dataset.from_tensor_slices((val_norm, val_norm))\n",
    "val_dataset = val_dataset.batch(batch_size=64).prefetch(buffer_size=tf.data.experimental.AUTOTUNE)\n",
    "\n",
    "test_dataset = tf.data.Dataset.from_tensor_slices((test_norm, test_norm))\n",
    "test_dataset = test_dataset.batch(batch_size=64).prefetch(buffer_size=tf.data.experimental.AUTOTUNE)"
   ],
   "metadata": {
    "collapsed": false,
    "ExecuteTime": {
     "end_time": "2024-06-10T12:30:13.674410900Z",
     "start_time": "2024-06-10T12:30:12.908852100Z"
    }
   },
   "id": "350ab13edd7251e7"
  },
  {
   "cell_type": "code",
   "execution_count": 4,
   "outputs": [
    {
     "name": "stdout",
     "output_type": "stream",
     "text": [
      "Model: \"ae\"\n",
      "_________________________________________________________________\n",
      " Layer (type)                Output Shape              Param #   \n",
      "=================================================================\n",
      " encoder (Encoder)           multiple                  16896     \n",
      "                                                                 \n",
      " decoder (Decoder)           multiple                  115457    \n",
      "                                                                 \n",
      "=================================================================\n",
      "Total params: 132,353\n",
      "Trainable params: 132,353\n",
      "Non-trainable params: 0\n",
      "_________________________________________________________________\n"
     ]
    }
   ],
   "source": [
    "lstmae = AE()\n",
    "lstmae.build(input_shape=(None, train.shape[1], train.shape[2]))\n",
    "lstmae.summary()"
   ],
   "metadata": {
    "collapsed": false,
    "ExecuteTime": {
     "end_time": "2024-06-10T12:30:14.565039200Z",
     "start_time": "2024-06-10T12:30:13.674410900Z"
    }
   },
   "id": "55519ec2be3e2231"
  },
  {
   "cell_type": "code",
   "execution_count": 5,
   "outputs": [
    {
     "name": "stdout",
     "output_type": "stream",
     "text": [
      "Model: \"ae_1\"\n",
      "_________________________________________________________________\n",
      " Layer (type)                Output Shape              Param #   \n",
      "=================================================================\n",
      " encoder_1 (Encoder)         multiple                  12864     \n",
      "                                                                 \n",
      " decoder_1 (Decoder)         multiple                  91137     \n",
      "                                                                 \n",
      "=================================================================\n",
      "Total params: 104,001\n",
      "Trainable params: 104,001\n",
      "Non-trainable params: 0\n",
      "_________________________________________________________________\n"
     ]
    }
   ],
   "source": [
    "gruae = AE(mode='GRU')\n",
    "gruae.build(input_shape=(None, train.shape[1], train.shape[2]))\n",
    "gruae.summary()"
   ],
   "metadata": {
    "collapsed": false,
    "ExecuteTime": {
     "end_time": "2024-06-10T12:30:15.190043700Z",
     "start_time": "2024-06-10T12:30:14.565039200Z"
    }
   },
   "id": "9ecd60616d7d3729"
  },
  {
   "cell_type": "code",
   "execution_count": 6,
   "outputs": [
    {
     "name": "stdout",
     "output_type": "stream",
     "text": [
      "Model: \"ae_2\"\n",
      "_________________________________________________________________\n",
      " Layer (type)                Output Shape              Param #   \n",
      "=================================================================\n",
      " encoder_2 (Encoder)         multiple                  345024    \n",
      "                                                                 \n",
      " decoder_2 (Decoder)         multiple                  189185    \n",
      "                                                                 \n",
      "=================================================================\n",
      "Total params: 534,209\n",
      "Trainable params: 534,209\n",
      "Non-trainable params: 0\n",
      "_________________________________________________________________\n"
     ]
    }
   ],
   "source": [
    "tcnae = AE(mode='TCN')\n",
    "tcnae.build(input_shape=(None, train.shape[1], train.shape[2]))\n",
    "tcnae.summary()"
   ],
   "metadata": {
    "collapsed": false,
    "ExecuteTime": {
     "end_time": "2024-06-10T12:30:15.455791100Z",
     "start_time": "2024-06-10T12:30:15.190043700Z"
    }
   },
   "id": "58932f0865329873"
  },
  {
   "cell_type": "code",
   "execution_count": 7,
   "outputs": [],
   "source": [
    "from keras import optimizers\n",
    "\n",
    "lstmae.compile(optimizer=optimizers.Adam(learning_rate=.001), loss='mse')\n",
    "gruae.compile(optimizer=optimizers.Adam(learning_rate=.001), loss='mse')\n",
    "tcnae.compile(optimizer=optimizers.Adam(learning_rate=.001), loss='mse')"
   ],
   "metadata": {
    "collapsed": false,
    "ExecuteTime": {
     "end_time": "2024-06-10T12:30:50.433058100Z",
     "start_time": "2024-06-10T12:30:50.393322200Z"
    }
   },
   "id": "dd895f3f51333082"
  },
  {
   "cell_type": "code",
   "execution_count": 11,
   "outputs": [
    {
     "name": "stdout",
     "output_type": "stream",
     "text": [
      "Epoch 1/20\n",
      "411/411 [==============================] - 7s 12ms/step - loss: 0.0116 - val_loss: 0.0054\n",
      "Epoch 2/20\n",
      "411/411 [==============================] - 4s 10ms/step - loss: 0.0040 - val_loss: 0.0049\n",
      "Epoch 3/20\n",
      "411/411 [==============================] - 4s 10ms/step - loss: 0.0032 - val_loss: 0.0046\n",
      "Epoch 4/20\n",
      "411/411 [==============================] - 4s 10ms/step - loss: 0.0027 - val_loss: 0.0038\n",
      "Epoch 5/20\n",
      "411/411 [==============================] - 4s 10ms/step - loss: 0.0024 - val_loss: 0.0036\n",
      "Epoch 6/20\n",
      "411/411 [==============================] - 4s 10ms/step - loss: 0.0023 - val_loss: 0.0034\n",
      "Epoch 7/20\n",
      "411/411 [==============================] - 4s 10ms/step - loss: 0.0022 - val_loss: 0.0033\n",
      "Epoch 8/20\n",
      "411/411 [==============================] - 4s 10ms/step - loss: 0.0020 - val_loss: 0.0034\n",
      "Epoch 9/20\n",
      "411/411 [==============================] - 4s 10ms/step - loss: 0.0019 - val_loss: 0.0026\n",
      "Epoch 10/20\n",
      "411/411 [==============================] - 4s 10ms/step - loss: 0.0016 - val_loss: 0.0022\n",
      "Epoch 11/20\n",
      "411/411 [==============================] - 4s 10ms/step - loss: 0.0015 - val_loss: 0.0020\n",
      "Epoch 12/20\n",
      "411/411 [==============================] - 4s 10ms/step - loss: 0.0014 - val_loss: 0.0020\n",
      "Epoch 13/20\n",
      "411/411 [==============================] - 4s 10ms/step - loss: 0.0013 - val_loss: 0.0020\n",
      "Epoch 14/20\n",
      "411/411 [==============================] - 4s 10ms/step - loss: 0.0012 - val_loss: 0.0020\n",
      "Epoch 15/20\n",
      "411/411 [==============================] - 4s 10ms/step - loss: 0.0012 - val_loss: 0.0019\n",
      "Epoch 16/20\n",
      "411/411 [==============================] - 4s 10ms/step - loss: 0.0011 - val_loss: 0.0018\n",
      "Epoch 17/20\n",
      "411/411 [==============================] - 4s 10ms/step - loss: 0.0010 - val_loss: 0.0018\n",
      "Epoch 18/20\n",
      "411/411 [==============================] - 4s 10ms/step - loss: 9.7890e-04 - val_loss: 0.0017\n",
      "Epoch 19/20\n",
      "411/411 [==============================] - 4s 10ms/step - loss: 9.1287e-04 - val_loss: 0.0017\n",
      "Epoch 20/20\n",
      "411/411 [==============================] - 4s 10ms/step - loss: 9.1105e-04 - val_loss: 0.0016\n"
     ]
    }
   ],
   "source": [
    "hist1 = lstmae.fit(train_dataset, epochs=20, batch_size=64, validation_data=(val_dataset))"
   ],
   "metadata": {
    "collapsed": false,
    "ExecuteTime": {
     "end_time": "2024-06-10T12:32:44.237270100Z",
     "start_time": "2024-06-10T12:31:17.820664Z"
    }
   },
   "id": "61c4b5b900885c71"
  },
  {
   "cell_type": "code",
   "execution_count": 14,
   "outputs": [
    {
     "name": "stdout",
     "output_type": "stream",
     "text": [
      "Epoch 1/20\n",
      "411/411 [==============================] - 7s 11ms/step - loss: 0.0232 - val_loss: 0.0187\n",
      "Epoch 2/20\n",
      "411/411 [==============================] - 4s 9ms/step - loss: 0.0067 - val_loss: 0.0057\n",
      "Epoch 3/20\n",
      "411/411 [==============================] - 4s 9ms/step - loss: 0.0040 - val_loss: 0.0053\n",
      "Epoch 4/20\n",
      "411/411 [==============================] - 4s 9ms/step - loss: 0.0037 - val_loss: 0.0049\n",
      "Epoch 5/20\n",
      "411/411 [==============================] - 4s 9ms/step - loss: 0.0029 - val_loss: 0.0039\n",
      "Epoch 6/20\n",
      "411/411 [==============================] - 4s 9ms/step - loss: 0.0024 - val_loss: 0.0036\n",
      "Epoch 7/20\n",
      "411/411 [==============================] - 4s 9ms/step - loss: 0.0024 - val_loss: 0.0035\n",
      "Epoch 8/20\n",
      "411/411 [==============================] - 4s 9ms/step - loss: 0.0023 - val_loss: 0.0033\n",
      "Epoch 9/20\n",
      "411/411 [==============================] - 4s 9ms/step - loss: 0.0022 - val_loss: 0.0031\n",
      "Epoch 10/20\n",
      "411/411 [==============================] - 4s 9ms/step - loss: 0.0021 - val_loss: 0.0030\n",
      "Epoch 11/20\n",
      "411/411 [==============================] - 4s 9ms/step - loss: 0.0020 - val_loss: 0.0028\n",
      "Epoch 12/20\n",
      "411/411 [==============================] - 4s 9ms/step - loss: 0.0018 - val_loss: 0.0024\n",
      "Epoch 13/20\n",
      "411/411 [==============================] - 4s 9ms/step - loss: 0.0016 - val_loss: 0.0023\n",
      "Epoch 14/20\n",
      "411/411 [==============================] - 4s 9ms/step - loss: 0.0015 - val_loss: 0.0022\n",
      "Epoch 15/20\n",
      "411/411 [==============================] - 4s 9ms/step - loss: 0.0014 - val_loss: 0.0021\n",
      "Epoch 16/20\n",
      "411/411 [==============================] - 4s 9ms/step - loss: 0.0013 - val_loss: 0.0020\n",
      "Epoch 17/20\n",
      "411/411 [==============================] - 4s 9ms/step - loss: 0.0013 - val_loss: 0.0020\n",
      "Epoch 18/20\n",
      "411/411 [==============================] - 4s 9ms/step - loss: 0.0013 - val_loss: 0.0019\n",
      "Epoch 19/20\n",
      "411/411 [==============================] - 4s 9ms/step - loss: 0.0013 - val_loss: 0.0019\n",
      "Epoch 20/20\n",
      "411/411 [==============================] - 4s 9ms/step - loss: 0.0012 - val_loss: 0.0019\n"
     ]
    }
   ],
   "source": [
    "hist1 = gruae.fit(train_dataset, epochs=20, batch_size=64, validation_data=(val_dataset))"
   ],
   "metadata": {
    "collapsed": false,
    "ExecuteTime": {
     "end_time": "2024-06-10T12:41:47.400765400Z",
     "start_time": "2024-06-10T12:40:29.361952400Z"
    }
   },
   "id": "35f5c7cac668fc55"
  },
  {
   "cell_type": "code",
   "execution_count": 15,
   "outputs": [
    {
     "name": "stdout",
     "output_type": "stream",
     "text": [
      "Epoch 1/20\n",
      "411/411 [==============================] - 5s 11ms/step - loss: 0.0075 - val_loss: 0.0028\n",
      "Epoch 2/20\n",
      "411/411 [==============================] - 4s 10ms/step - loss: 0.0014 - val_loss: 0.0016\n",
      "Epoch 3/20\n",
      "411/411 [==============================] - 4s 10ms/step - loss: 0.0017 - val_loss: 0.0031\n",
      "Epoch 4/20\n",
      "411/411 [==============================] - 4s 10ms/step - loss: 8.3598e-04 - val_loss: 6.7061e-04\n",
      "Epoch 5/20\n",
      "411/411 [==============================] - 4s 10ms/step - loss: 4.9442e-04 - val_loss: 7.0306e-04\n",
      "Epoch 6/20\n",
      "411/411 [==============================] - 4s 11ms/step - loss: 3.8772e-04 - val_loss: 6.1972e-04\n",
      "Epoch 7/20\n",
      "411/411 [==============================] - 4s 11ms/step - loss: 4.1911e-04 - val_loss: 5.5253e-04\n",
      "Epoch 8/20\n",
      "411/411 [==============================] - 4s 11ms/step - loss: 4.8310e-04 - val_loss: 4.6695e-04\n",
      "Epoch 9/20\n",
      "411/411 [==============================] - 4s 11ms/step - loss: 4.6898e-04 - val_loss: 5.2336e-04\n",
      "Epoch 10/20\n",
      "411/411 [==============================] - 4s 11ms/step - loss: 3.6318e-04 - val_loss: 0.0011\n",
      "Epoch 11/20\n",
      "411/411 [==============================] - 4s 10ms/step - loss: 3.2613e-04 - val_loss: 3.5861e-04\n",
      "Epoch 12/20\n",
      "411/411 [==============================] - 5s 11ms/step - loss: 2.0348e-04 - val_loss: 2.8014e-04\n",
      "Epoch 13/20\n",
      "411/411 [==============================] - 4s 11ms/step - loss: 2.1500e-04 - val_loss: 3.5580e-04\n",
      "Epoch 14/20\n",
      "411/411 [==============================] - 4s 11ms/step - loss: 3.3409e-04 - val_loss: 0.0011\n",
      "Epoch 15/20\n",
      "411/411 [==============================] - 4s 11ms/step - loss: 4.7610e-04 - val_loss: 0.0013\n",
      "Epoch 16/20\n",
      "411/411 [==============================] - 4s 11ms/step - loss: 2.5720e-04 - val_loss: 8.1279e-04\n",
      "Epoch 17/20\n",
      "411/411 [==============================] - 4s 11ms/step - loss: 1.7110e-04 - val_loss: 4.4533e-04\n",
      "Epoch 18/20\n",
      "411/411 [==============================] - 4s 11ms/step - loss: 1.6928e-04 - val_loss: 3.4663e-04\n",
      "Epoch 19/20\n",
      "411/411 [==============================] - 5s 11ms/step - loss: 2.9356e-04 - val_loss: 9.0723e-04\n",
      "Epoch 20/20\n",
      "411/411 [==============================] - 4s 11ms/step - loss: 3.1380e-04 - val_loss: 8.4084e-04\n"
     ]
    }
   ],
   "source": [
    "hist1 = tcnae.fit(train_dataset, epochs=20, batch_size=64, validation_data=(val_dataset))"
   ],
   "metadata": {
    "collapsed": false,
    "ExecuteTime": {
     "end_time": "2024-06-10T12:43:16.033760200Z",
     "start_time": "2024-06-10T12:41:47.400765400Z"
    }
   },
   "id": "2ccfcaa856d74313"
  }
 ],
 "metadata": {
  "kernelspec": {
   "display_name": "Python 3",
   "language": "python",
   "name": "python3"
  },
  "language_info": {
   "codemirror_mode": {
    "name": "ipython",
    "version": 2
   },
   "file_extension": ".py",
   "mimetype": "text/x-python",
   "name": "python",
   "nbconvert_exporter": "python",
   "pygments_lexer": "ipython2",
   "version": "2.7.6"
  }
 },
 "nbformat": 4,
 "nbformat_minor": 5
}
