{
 "cells": [
  {
   "cell_type": "code",
   "execution_count": 1,
   "id": "initial_id",
   "metadata": {
    "collapsed": true,
    "ExecuteTime": {
     "end_time": "2024-06-10T09:39:00.377673900Z",
     "start_time": "2024-06-10T09:38:57.611932200Z"
    }
   },
   "outputs": [],
   "source": [
    "import warnings\n",
    "\n",
    "warnings.filterwarnings('ignore')\n",
    "\n",
    "import numpy as np\n",
    "import pandas as pd\n",
    "import tensorflow as tf\n",
    "from keras.losses import mean_absolute_error as mae, mean_squared_error as mse\n",
    "\n",
    "from models import AE, USAD\n",
    "from utils import *"
   ]
  },
  {
   "cell_type": "markdown",
   "source": [
    "# AE(AutoEncoder) Reconstruct Test\n",
    "- LSTM AE\n",
    "- GRU AE\n",
    "- TCN AE"
   ],
   "metadata": {
    "collapsed": false
   },
   "id": "54d9496c3e2c8978"
  },
  {
   "cell_type": "code",
   "execution_count": 2,
   "outputs": [
    {
     "name": "stdout",
     "output_type": "stream",
     "text": [
      "Train: (26280, 24, 1)\n",
      "Val: (8760, 24, 1)\n",
      "Test: (3601, 24, 1)\n"
     ]
    }
   ],
   "source": [
    "# make dataset\n",
    "df = pd.read_csv('./datasets/JNU_elec.csv').set_index('timestamp')\n",
    "seq_data = create_seq(df, seq_len=24)\n",
    "\n",
    "# split\n",
    "train = seq_data[:(365 * 24 * 3)]\n",
    "val = seq_data[(365 * 24 * 3):(365 * 24 * 4)]\n",
    "test = seq_data[(365 * 24 * 4):]\n",
    "\n",
    "print(f'Train: {train.shape}')\n",
    "print(f'Val: {val.shape}')\n",
    "print(f'Test: {test.shape}')"
   ],
   "metadata": {
    "collapsed": false,
    "ExecuteTime": {
     "end_time": "2024-06-10T09:39:02.690029800Z",
     "start_time": "2024-06-10T09:39:00.377673900Z"
    }
   },
   "id": "eac4496ee6fc0f19"
  },
  {
   "cell_type": "code",
   "execution_count": 3,
   "outputs": [],
   "source": [
    "# Min-Max normalize\n",
    "min_val, max_val = np.min(train), np.max(train)\n",
    "\n",
    "train_norm = minmax(train, min_val, max_val)\n",
    "val_norm = minmax(val, min_val, max_val)\n",
    "test_norm = minmax(test, min_val, max_val)\n",
    "\n",
    "# make tensorflow dataset\n",
    "train_dataset = tf.data.Dataset.from_tensor_slices((train_norm, train_norm))\n",
    "train_dataset = train_dataset.batch(batch_size=64).prefetch(buffer_size=tf.data.experimental.AUTOTUNE)\n",
    "\n",
    "val_dataset = tf.data.Dataset.from_tensor_slices((val_norm, val_norm))\n",
    "val_dataset = val_dataset.batch(batch_size=64).prefetch(buffer_size=tf.data.experimental.AUTOTUNE)\n",
    "\n",
    "test_dataset = tf.data.Dataset.from_tensor_slices((test_norm, test_norm))\n",
    "test_dataset = test_dataset.batch(batch_size=64).prefetch(buffer_size=tf.data.experimental.AUTOTUNE)"
   ],
   "metadata": {
    "collapsed": false,
    "ExecuteTime": {
     "end_time": "2024-06-10T09:39:03.361890900Z",
     "start_time": "2024-06-10T09:39:02.690029800Z"
    }
   },
   "id": "94422da708f57d28"
  },
  {
   "cell_type": "code",
   "execution_count": 4,
   "outputs": [],
   "source": [
    "# LSTM AutoEncoder\n",
    "lstmae = AE(input_dim=24, z_dim=64, d_hidden_dim=64, mode='LSTM')\n",
    "# GRU AutoEncoder\n",
    "gruae = AE(input_dim=24, z_dim=64, d_hidden_dim=64, mode='GRU')\n",
    "# TCN\n",
    "tcnae = AE(input_dim=24, z_dim=64, d_hidden_dim=64, e_hidden_dim=64, dilations=[1, 2, 4, 8, 16], mode='TCN')"
   ],
   "metadata": {
    "collapsed": false,
    "ExecuteTime": {
     "end_time": "2024-06-10T09:39:03.533917500Z",
     "start_time": "2024-06-10T09:39:03.361890900Z"
    }
   },
   "id": "7f46f9324a4544a3"
  },
  {
   "cell_type": "code",
   "execution_count": null,
   "outputs": [
    {
     "name": "stdout",
     "output_type": "stream",
     "text": [
      "epoch 1 train_loss: 0.0144 | 16.73 sec\n",
      "epoch 1 val_loss: 0.0072 | 2.14 sec\n",
      "epoch 2 train_loss: 0.0043 | 14.80 sec\n",
      "epoch 2 val_loss: 0.0056 | 2.14 sec\n",
      "epoch 3 train_loss: 0.0036 | 14.89 sec\n",
      "epoch 3 val_loss: 0.0048 | 2.26 sec\n",
      "epoch 4 train_loss: 0.0030 | 16.13 sec\n",
      "epoch 4 val_loss: 0.0042 | 2.13 sec\n",
      "epoch 5 train_loss: 0.0026 | 14.95 sec\n",
      "epoch 5 val_loss: 0.0037 | 2.07 sec\n",
      "epoch 6 train_loss: 0.0023 | 14.48 sec\n",
      "epoch 6 val_loss: 0.0033 | 1.99 sec\n",
      "epoch 7 train_loss: 0.0022 | 14.40 sec\n",
      "epoch 7 val_loss: 0.0032 | 2.05 sec\n",
      "epoch 8 train_loss: 0.0021 | 14.48 sec\n",
      "epoch 8 val_loss: 0.0030 | 2.03 sec\n",
      "epoch 9 train_loss: 0.0020 | 14.39 sec\n",
      "epoch 9 val_loss: 0.0030 | 2.00 sec\n"
     ]
    }
   ],
   "source": [
    "lstmhist = lstmae.fit(train_dataset, val_dataset)"
   ],
   "metadata": {
    "collapsed": false,
    "is_executing": true,
    "ExecuteTime": {
     "start_time": "2024-06-10T09:39:03.533917500Z"
    }
   },
   "id": "1db70049de2dae43"
  },
  {
   "cell_type": "code",
   "execution_count": null,
   "outputs": [],
   "source": [
    "gruhist = gruae.fit(train_dataset, val_dataset)"
   ],
   "metadata": {
    "collapsed": false,
    "is_executing": true
   },
   "id": "f7e4ff4e21fb7c36"
  },
  {
   "cell_type": "code",
   "execution_count": null,
   "outputs": [],
   "source": [
    "tcnhist = tcnae.fit(train_dataset, val_dataset)"
   ],
   "metadata": {
    "collapsed": false,
    "is_executing": true
   },
   "id": "18abb5250bf6f9c0"
  },
  {
   "cell_type": "code",
   "execution_count": null,
   "outputs": [],
   "source": [],
   "metadata": {
    "collapsed": false,
    "is_executing": true
   },
   "id": "656a77fdd8a9f136"
  }
 ],
 "metadata": {
  "kernelspec": {
   "display_name": "Python 3",
   "language": "python",
   "name": "python3"
  },
  "language_info": {
   "codemirror_mode": {
    "name": "ipython",
    "version": 2
   },
   "file_extension": ".py",
   "mimetype": "text/x-python",
   "name": "python",
   "nbconvert_exporter": "python",
   "pygments_lexer": "ipython2",
   "version": "2.7.6"
  }
 },
 "nbformat": 4,
 "nbformat_minor": 5
}
