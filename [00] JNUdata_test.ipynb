{
 "cells": [
  {
   "cell_type": "code",
   "execution_count": 1,
   "id": "49d54b3bc75f919d",
   "metadata": {
    "collapsed": false
   },
   "outputs": [],
   "source": [
    "# Test reconstruction performance"
   ]
  },
  {
   "cell_type": "code",
   "execution_count": 2,
   "id": "initial_id",
   "metadata": {
    "ExecuteTime": {
     "end_time": "2024-06-10T12:45:13.900886600Z",
     "start_time": "2024-06-10T12:45:13.877546500Z"
    },
    "collapsed": true
   },
   "outputs": [],
   "source": [
    "import os\n",
    "import random\n",
    "import warnings\n",
    "import numpy as np\n",
    "import pandas as pd\n",
    "\n",
    "warnings.filterwarnings('ignore')\n",
    "\n",
    "from keras.optimizers import Adam\n",
    "from models import AE, USAD\n",
    "from utils import *\n",
    "\n",
    "def seed_everything(seed=42):\n",
    "    random.seed(seed)\n",
    "    np.random.seed(seed)\n",
    "    os.environ[\"PYTHONHASHSEED\"] = str(seed)\n",
    "    tf.random.set_seed(seed)\n",
    "seed_everything(42)"
   ]
  },
  {
   "cell_type": "markdown",
   "id": "54d9496c3e2c8978",
   "metadata": {
    "collapsed": false
   },
   "source": [
    "# AutoEncoder(AE)\n",
    "- LSTM-AE\n",
    "- GRU-AE\n",
    "- TCN-AE"
   ]
  },
  {
   "cell_type": "code",
   "execution_count": 3,
   "id": "eac4496ee6fc0f19",
   "metadata": {
    "ExecuteTime": {
     "end_time": "2024-06-10T12:45:18.705657300Z",
     "start_time": "2024-06-10T12:45:15.924458600Z"
    },
    "collapsed": false
   },
   "outputs": [
    {
     "name": "stdout",
     "output_type": "stream",
     "text": [
      "Train: (26280, 24, 1)\n",
      "Val: (8760, 24, 1)\n",
      "Test: (3601, 24, 1)\n"
     ]
    }
   ],
   "source": [
    "# make dataset\n",
    "df = pd.read_csv('./datasets/JNU_elec.csv').set_index('timestamp')\n",
    "seq_data = create_seq(df, seq_len=24)\n",
    "\n",
    "# split(train | val | test)\n",
    "train = seq_data[:(365 * 24 * 3)]\n",
    "val = seq_data[(365 * 24 * 3):(365 * 24 * 4)]\n",
    "test = seq_data[(365 * 24 * 4):]\n",
    "\n",
    "print(f'Train: {train.shape}')\n",
    "print(f'Val: {val.shape}')\n",
    "print(f'Test: {test.shape}')"
   ]
  },
  {
   "cell_type": "code",
   "execution_count": 4,
   "id": "94422da708f57d28",
   "metadata": {
    "ExecuteTime": {
     "end_time": "2024-06-10T12:45:40.752521400Z",
     "start_time": "2024-06-10T12:45:40.690042200Z"
    },
    "collapsed": false
   },
   "outputs": [],
   "source": [
    "# Min-Max norm\n",
    "min_val, max_val = np.min(train), np.max(train)\n",
    "train_norm = minmax(train, min_val, max_val)\n",
    "val_norm = minmax(val, min_val, max_val)\n",
    "test_norm = minmax(test, min_val, max_val)\n",
    "\n",
    "# make tf dataset\n",
    "train_dataset = make_dataset(train_norm, train_norm)\n",
    "val_dataset = make_dataset(val_norm, val_norm)\n",
    "test_dataset = make_dataset(test_norm, test_norm)"
   ]
  },
  {
   "cell_type": "code",
   "execution_count": 5,
   "id": "7f46f9324a4544a3",
   "metadata": {
    "ExecuteTime": {
     "end_time": "2024-06-10T11:34:17.565151100Z",
     "start_time": "2024-06-10T11:34:17.455704400Z"
    },
    "collapsed": false
   },
   "outputs": [],
   "source": [
    "# LSTM-AE\n",
    "lstmae = AE(mode='LSTM')\n",
    "# GRU-AE\n",
    "gruae = AE(mode='GRU')\n",
    "# TCN-AE\n",
    "tcnae = AE(z_dim=32, hidden_dim=32, dilations=[1, 2, 4], mode='TCN')\n",
    "\n",
    "input_shape = (None, train.shape[1], train.shape[2])\n",
    "lstmae.build(input_shape)\n",
    "gruae.build(input_shape)\n",
    "tcnae.build(input_shape)\n",
    "\n",
    "lstmae.compile(optimizer=Adam(.001), loss='mse', metrics='mae')\n",
    "gruae.compile(optimizer=Adam(.001), loss='mse', metrics='mae')\n",
    "tcnae.compile(optimizer=Adam(.001), loss='mse', metrics='mae')\n",
    "\n",
    "lstm_time = TimeHistory()\n",
    "gru_time = TimeHistory()\n",
    "tcn_time = TimeHistory()"
   ]
  },
  {
   "cell_type": "code",
   "execution_count": 6,
   "id": "e2ce126844ba36ed",
   "metadata": {
    "ExecuteTime": {
     "end_time": "2024-06-10T11:34:44.846482Z",
     "start_time": "2024-06-10T11:34:23.283808600Z"
    },
    "collapsed": false
   },
   "outputs": [
    {
     "name": "stdout",
     "output_type": "stream",
     "text": [
      "Model: \"ae\"\n",
      "_________________________________________________________________\n",
      " Layer (type)                Output Shape              Param #   \n",
      "=================================================================\n",
      " encoder (Encoder)           multiple                  16896     \n",
      "                                                                 \n",
      " decoder (Decoder)           multiple                  115457    \n",
      "                                                                 \n",
      "=================================================================\n",
      "Total params: 132,353\n",
      "Trainable params: 132,353\n",
      "Non-trainable params: 0\n",
      "_________________________________________________________________\n",
      "Model: \"ae_1\"\n",
      "_________________________________________________________________\n",
      " Layer (type)                Output Shape              Param #   \n",
      "=================================================================\n",
      " encoder_1 (Encoder)         multiple                  12864     \n",
      "                                                                 \n",
      " decoder_1 (Decoder)         multiple                  91137     \n",
      "                                                                 \n",
      "=================================================================\n",
      "Total params: 104,001\n",
      "Trainable params: 104,001\n",
      "Non-trainable params: 0\n",
      "_________________________________________________________________\n",
      "Model: \"ae_2\"\n",
      "_________________________________________________________________\n",
      " Layer (type)                Output Shape              Param #   \n",
      "=================================================================\n",
      " encoder_2 (Encoder)         multiple                  35104     \n",
      "                                                                 \n",
      " decoder_2 (Decoder)         multiple                  16545     \n",
      "                                                                 \n",
      "=================================================================\n",
      "Total params: 51,649\n",
      "Trainable params: 51,649\n",
      "Non-trainable params: 0\n",
      "_________________________________________________________________\n",
      "None None None\n"
     ]
    }
   ],
   "source": [
    "print(lstmae.summary(), gruae.summary(), tcnae.summary())"
   ]
  },
  {
   "cell_type": "code",
   "execution_count": 7,
   "id": "1f4580b1b03ef71f",
   "metadata": {
    "ExecuteTime": {
     "end_time": "2024-06-10T11:32:19.559062200Z",
     "start_time": "2024-06-10T11:32:19.206103300Z"
    },
    "collapsed": false
   },
   "outputs": [
    {
     "name": "stdout",
     "output_type": "stream",
     "text": [
      "Epoch 1/5\n",
      "411/411 [==============================] - 8s 10ms/step - loss: 0.0107 - mae: 0.0703 - val_loss: 0.0054 - val_mae: 0.0499\n",
      "Epoch 2/5\n",
      "411/411 [==============================] - 4s 10ms/step - loss: 0.0037 - mae: 0.0419 - val_loss: 0.0047 - val_mae: 0.0451\n",
      "Epoch 3/5\n",
      "411/411 [==============================] - 4s 10ms/step - loss: 0.0029 - mae: 0.0364 - val_loss: 0.0043 - val_mae: 0.0420\n",
      "Epoch 4/5\n",
      "411/411 [==============================] - 4s 9ms/step - loss: 0.0025 - mae: 0.0339 - val_loss: 0.0039 - val_mae: 0.0408\n",
      "Epoch 5/5\n",
      "411/411 [==============================] - 4s 10ms/step - loss: 0.0023 - mae: 0.0323 - val_loss: 0.0038 - val_mae: 0.0405\n",
      "LSTM-AE train time: 23.6793\n"
     ]
    }
   ],
   "source": [
    "epochs = 5\n",
    "batch_size = 64\n",
    "\n",
    "lstmae.fit(train_dataset, epochs=epochs, batch_size=batch_size, validation_data=(val_dataset), callbacks=[lstm_time])\n",
    "print(f'LSTM-AE train time: {sum(lstm_time.times):.4f}')"
   ]
  },
  {
   "cell_type": "code",
   "execution_count": 8,
   "id": "3f9244cb",
   "metadata": {},
   "outputs": [
    {
     "name": "stdout",
     "output_type": "stream",
     "text": [
      "Epoch 1/5\n"
     ]
    },
    {
     "name": "stdout",
     "output_type": "stream",
     "text": [
      "411/411 [==============================] - 7s 11ms/step - loss: 0.0226 - mae: 0.1133 - val_loss: 0.0170 - val_mae: 0.0956\n",
      "Epoch 2/5\n",
      "411/411 [==============================] - 4s 10ms/step - loss: 0.0057 - mae: 0.0514 - val_loss: 0.0051 - val_mae: 0.0481\n",
      "Epoch 3/5\n",
      "411/411 [==============================] - 4s 10ms/step - loss: 0.0040 - mae: 0.0427 - val_loss: 0.0051 - val_mae: 0.0473\n",
      "Epoch 4/5\n",
      "411/411 [==============================] - 4s 10ms/step - loss: 0.0034 - mae: 0.0392 - val_loss: 0.0039 - val_mae: 0.0407\n",
      "Epoch 5/5\n",
      "411/411 [==============================] - 4s 10ms/step - loss: 0.0026 - mae: 0.0337 - val_loss: 0.0037 - val_mae: 0.0403\n",
      "GRU-AE train time: 22.4303\n"
     ]
    }
   ],
   "source": [
    "gruae.fit(train_dataset, epochs=epochs, batch_size=batch_size, validation_data=(val_dataset), callbacks=[gru_time])\n",
    "print(f'GRU-AE train time: {sum(gru_time.times):.4f}')"
   ]
  },
  {
   "cell_type": "code",
   "execution_count": 9,
   "id": "ae6426bb",
   "metadata": {},
   "outputs": [
    {
     "name": "stdout",
     "output_type": "stream",
     "text": [
      "Epoch 1/5\n",
      "411/411 [==============================] - 6s 10ms/step - loss: 0.0084 - mae: 0.0592 - val_loss: 0.0027 - val_mae: 0.0341\n",
      "Epoch 2/5\n",
      "411/411 [==============================] - 4s 9ms/step - loss: 0.0018 - mae: 0.0280 - val_loss: 0.0016 - val_mae: 0.0263\n",
      "Epoch 3/5\n",
      "411/411 [==============================] - 4s 9ms/step - loss: 0.0011 - mae: 0.0228 - val_loss: 0.0013 - val_mae: 0.0234\n",
      "Epoch 4/5\n",
      "411/411 [==============================] - 4s 9ms/step - loss: 7.4110e-04 - mae: 0.0183 - val_loss: 0.0011 - val_mae: 0.0214\n",
      "Epoch 5/5\n",
      "411/411 [==============================] - 4s 9ms/step - loss: 5.5771e-04 - mae: 0.0160 - val_loss: 7.5325e-04 - val_mae: 0.0179\n",
      "TCN-AE train time: 20.5263\n"
     ]
    }
   ],
   "source": [
    "tcnae.fit(train_dataset, epochs=epochs, batch_size=batch_size, validation_data=(val_dataset), callbacks=[tcn_time])\n",
    "print(f'TCN-AE train time: {sum(tcn_time.times):.4f}')"
   ]
  },
  {
   "cell_type": "markdown",
   "id": "a3b5ebbd",
   "metadata": {},
   "source": [
    "# UnSupervisedAnomalyDetection(USAD)\n",
    "- USAD\n",
    "- TCN-USAD"
   ]
  },
  {
   "cell_type": "code",
   "execution_count": 10,
   "id": "f5c7171a",
   "metadata": {},
   "outputs": [],
   "source": [
    "# USAD\n",
    "usad = USAD(hidden_dims=[64, 128], mode='USAD')\n",
    "# TCN-USAD\n",
    "tcnusad = USAD(z_dim=32, hidden_dims=32, dilations=[1, 2, 4], mode='TCN')\n",
    "\n",
    "input_shape = (None, train.shape[1], train.shape[2])\n",
    "usad.build(input_shape)\n",
    "tcnusad.build(input_shape)\n",
    "\n",
    "usad.compile(\n",
    "    g_optimizer=Adam(.001), d_optimizer=Adam(.001)\n",
    ")\n",
    "tcnusad.compile(\n",
    "    g_optimizer=Adam(.001), d_optimizer=Adam(.001)\n",
    ")\n",
    "\n",
    "usad_time = TimeHistory()\n",
    "tcnusad_time = TimeHistory()"
   ]
  },
  {
   "cell_type": "code",
   "execution_count": 11,
   "id": "dc653d8b",
   "metadata": {},
   "outputs": [
    {
     "name": "stdout",
     "output_type": "stream",
     "text": [
      "Model: \"usad\"\n",
      "_________________________________________________________________\n",
      " Layer (type)                Output Shape              Param #   \n",
      "=================================================================\n",
      " encoder_3 (Encoder)         multiple                  16704     \n",
      "                                                                 \n",
      " decoder_3 (Decoder)         multiple                  16641     \n",
      "                                                                 \n",
      " decoder_4 (Decoder)         multiple                  16641     \n",
      "                                                                 \n",
      "=================================================================\n",
      "Total params: 49,990\n",
      "Trainable params: 49,986\n",
      "Non-trainable params: 4\n",
      "_________________________________________________________________\n",
      "Model: \"usad_1\"\n",
      "_________________________________________________________________\n",
      " Layer (type)                Output Shape              Param #   \n",
      "=================================================================\n",
      " encoder_4 (Encoder)         multiple                  35104     \n",
      "                                                                 \n",
      " decoder_5 (Decoder)         multiple                  16545     \n",
      "                                                                 \n",
      " decoder_6 (Decoder)         multiple                  16545     \n",
      "                                                                 \n",
      "=================================================================\n",
      "Total params: 68,198\n",
      "Trainable params: 68,194\n",
      "Non-trainable params: 4\n",
      "_________________________________________________________________\n",
      "None None\n"
     ]
    }
   ],
   "source": [
    "print(usad.summary(), tcnusad.summary())"
   ]
  },
  {
   "cell_type": "code",
   "execution_count": 12,
   "id": "69783a97",
   "metadata": {},
   "outputs": [
    {
     "name": "stdout",
     "output_type": "stream",
     "text": [
      "Epoch 1/5, G Loss: 0.0153, D Loss: 0.0156 | Time: 19.75 sec\n",
      "Epoch 1/5, val_G Loss: 0.0001, val_D Loss: 0.0001\n",
      "Validation Step 136, Validation Generator Loss: 3.30988154928491e-06, Validation Discriminator Loss: 3.7976985822751885e-06\n",
      "Epoch 2/5, G Loss: 0.0042, D Loss: 0.0042 | Time: 19.55 sec\n",
      "Epoch 2/5, val_G Loss: 0.0000, val_D Loss: -0.0000\n",
      "Validation Step 136, Validation Generator Loss: 1.0932079703707132e-06, Validation Discriminator Loss: -5.405212277764804e-08\n",
      "Epoch 3/5, G Loss: 0.0041, D Loss: 0.0017 | Time: 19.68 sec\n",
      "Epoch 3/5, val_G Loss: 0.0562, val_D Loss: -0.0281\n",
      "Validation Step 136, Validation Generator Loss: 0.06971906125545502, Validation Discriminator Loss: -0.03485410287976265\n",
      "Epoch 4/5, G Loss: 0.0166, D Loss: -0.0070 | Time: 19.94 sec\n",
      "Epoch 4/5, val_G Loss: 0.0632, val_D Loss: -0.0421\n",
      "Validation Step 136, Validation Generator Loss: 0.0784219279885292, Validation Discriminator Loss: -0.05228114873170853\n",
      "Epoch 5/5, G Loss: 0.0270, D Loss: -0.0154 | Time: 20.00 sec\n",
      "Epoch 5/5, val_G Loss: 0.0674, val_D Loss: -0.0506\n",
      "Validation Step 136, Validation Generator Loss: 0.0836501196026802, Validation Discriminator Loss: -0.06273738294839859\n",
      "USAD train time: 110.9328\n"
     ]
    }
   ],
   "source": [
    "usad_times, _ = usad.fit(train_dataset, val_dataset, epochs)\n",
    "print(f'USAD train time: {sum(usad_times):.4f}')"
   ]
  },
  {
   "cell_type": "code",
   "execution_count": 13,
   "id": "7ae8df37",
   "metadata": {},
   "outputs": [
    {
     "name": "stdout",
     "output_type": "stream",
     "text": [
      "Epoch 1/5, G Loss: 0.0209, D Loss: 0.0198 | Time: 48.89 sec\n",
      "Epoch 1/5, val_G Loss: 0.0055, val_D Loss: 0.0052\n",
      "Validation Step 136, Validation Generator Loss: 0.0008315368322655559, Validation Discriminator Loss: 0.00084017711924389\n",
      "Epoch 2/5, G Loss: 0.0150, D Loss: 0.0066 | Time: 48.37 sec\n",
      "Epoch 2/5, val_G Loss: 0.0419, val_D Loss: -0.0046\n",
      "Validation Step 136, Validation Generator Loss: 0.047464340925216675, Validation Discriminator Loss: -0.021554986014962196\n",
      "Epoch 3/5, G Loss: 0.0316, D Loss: -0.0038 | Time: 49.11 sec\n",
      "Epoch 3/5, val_G Loss: 0.0584, val_D Loss: -0.0281\n",
      "Validation Step 136, Validation Generator Loss: 0.0703124925494194, Validation Discriminator Loss: -0.034859176725149155\n",
      "Epoch 4/5, G Loss: 0.0395, D Loss: -0.0124 | Time: 49.67 sec\n",
      "Epoch 4/5, val_G Loss: 0.0646, val_D Loss: -0.0421\n",
      "Validation Step 136, Validation Generator Loss: 0.07863763719797134, Validation Discriminator Loss: -0.05228113383054733\n",
      "Epoch 5/5, G Loss: 0.0450, D Loss: -0.0196 | Time: 49.94 sec\n",
      "Epoch 5/5, val_G Loss: 0.0683, val_D Loss: -0.0506\n",
      "Validation Step 136, Validation Generator Loss: 0.08379072695970535, Validation Discriminator Loss: -0.06273721903562546\n",
      "TCN-USAD train time: 271.8992\n"
     ]
    }
   ],
   "source": [
    "tcnusad_times, _ = tcnusad.fit(train_dataset, val_dataset, epochs)\n",
    "print(f'TCN-USAD train time: {sum(tcnusad_times):.4f}')"
   ]
  },
  {
   "cell_type": "code",
   "execution_count": null,
   "id": "2b7dcd69",
   "metadata": {},
   "outputs": [],
   "source": [
    "# To-Do\n",
    "# 00. make TCN-USAD(Done)\n",
    "# 00. train USAD with keras fit\n",
    "# 01. prepare dataset(LEAD 1.0, EPIC, aihub)(ing)\n",
    "# 02. test and make a Smart Media Journal Paper\n",
    "\n",
    "# # 모델 가중치 학습 가능 여부 확인 코드\n",
    "# for weight in autoencoder.encoder.trainable_weights:\n",
    "#     print(f\"Weight name: {weight.name}, Trainable: {weight.trainable}\")\n",
    "# for weight in autoencoder.decoder.trainable_weights:\n",
    "#     print(f\"Weight name: {weight.name}, Trainable: {weight.trainable}\")\n",
    "# autoencoder.encoder.trainable_weights\n",
    "# autoencoder.decoder.trainable_weights"
   ]
  },
  {
   "cell_type": "code",
   "execution_count": 14,
   "id": "656a77fdd8a9f136",
   "metadata": {
    "ExecuteTime": {
     "end_time": "2024-06-10T11:11:42.143517700Z",
     "start_time": "2024-06-10T11:11:42.049449900Z"
    },
    "collapsed": false
   },
   "outputs": [],
   "source": [
    "# # save model weights\n",
    "# path = './save/JNU/'\n",
    "# check_path(path)\n",
    "# lstmae.save(e_path=path+'LSTM_Encoder.h5', d_path=path+'LSTM_Decoder.h5')\n",
    "# gruae.save(e_path=path+'GRU_Encoder.h5', d_path=path+'GRU_Decoder.h5')\n",
    "# tcnae_s.save(e_path=path+'TCN_Encoder_s.h5', d_path=path+'TCN_Decoder_s.h5')\n",
    "# tcnae_l.save(e_path=path+'TCN_Encoder_l.h5', d_path=path+'TCN_Decoder_l.h5')"
   ]
  },
  {
   "cell_type": "code",
   "execution_count": 15,
   "id": "19a600c4cff33e13",
   "metadata": {
    "ExecuteTime": {
     "end_time": "2024-06-10T11:32:33.268883800Z",
     "start_time": "2024-06-10T11:32:33.190319600Z"
    },
    "collapsed": false
   },
   "outputs": [],
   "source": [
    "# path = './save/JNU/'\n",
    "# lstmae.load(e_path=path+'LSTM_Encoder.h5', d_path=path+'LSTM_Decoder.h5')"
   ]
  }
 ],
 "metadata": {
  "kernelspec": {
   "display_name": "Python 3",
   "language": "python",
   "name": "python3"
  },
  "language_info": {
   "codemirror_mode": {
    "name": "ipython",
    "version": 3
   },
   "file_extension": ".py",
   "mimetype": "text/x-python",
   "name": "python",
   "nbconvert_exporter": "python",
   "pygments_lexer": "ipython3",
   "version": "3.9.13"
  }
 },
 "nbformat": 4,
 "nbformat_minor": 5
}
