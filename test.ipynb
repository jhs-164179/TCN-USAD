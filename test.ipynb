{
 "cells": [
  {
   "cell_type": "code",
   "id": "initial_id",
   "metadata": {
    "collapsed": true,
    "ExecuteTime": {
     "end_time": "2024-06-10T03:44:39.080699Z",
     "start_time": "2024-06-10T03:44:29.659170300Z"
    }
   },
   "source": [
    "import numpy as np\n",
    "import tensorflow as tf\n",
    "from tensorflow import keras\n",
    "# from USAD import USAD"
   ],
   "outputs": [],
   "execution_count": 1
  },
  {
   "cell_type": "code",
   "execution_count": 14,
   "outputs": [],
   "source": [
    "x_data = np.random.sample((100, 24)).astype(np.float32)\n",
    "y_data = np.random.sample((100, 24)).astype(np.float32)"
   ],
   "metadata": {
    "collapsed": false,
    "ExecuteTime": {
     "end_time": "2024-06-10T03:48:27.924703200Z",
     "start_time": "2024-06-10T03:48:27.909038600Z"
    }
   },
   "id": "ac260d32306b03c7"
  },
  {
   "cell_type": "code",
   "execution_count": 3,
   "outputs": [],
   "source": [
    "from tensorflow.keras import layers"
   ],
   "metadata": {
    "collapsed": false,
    "ExecuteTime": {
     "end_time": "2024-06-10T03:44:51.518285100Z",
     "start_time": "2024-06-10T03:44:51.502651400Z"
    }
   },
   "id": "7e48c02257d9b61e"
  },
  {
   "cell_type": "code",
   "execution_count": 16,
   "outputs": [],
   "source": [
    "from models.TCN import TCN\n",
    "# temp = layers.LSTM(128, return_sequences=False)(x_data)\n",
    "temp = layers.Dense(128, activation='relu')(x_data)"
   ],
   "metadata": {
    "collapsed": false,
    "ExecuteTime": {
     "end_time": "2024-06-10T03:48:33.627862200Z",
     "start_time": "2024-06-10T03:48:33.596378800Z"
    }
   },
   "id": "88956e87fe3c55dd"
  },
  {
   "cell_type": "code",
   "execution_count": 22,
   "outputs": [],
   "source": [
    "from keras import Sequential, layers, activations\n",
    "from tensorflow_addons.layers import WeightNormalization\n",
    "tcns = [   Sequential([\n",
    "                WeightNormalization(layers.Conv1D(\n",
    "                    64, 2, padding='causal', dilation_rate=dilation\n",
    "                )),\n",
    "                layers.Activation(activations.relu),\n",
    "                layers.Dropout(0.0)]\n",
    "            ) for dilation in [1, 2, 4]]  "
   ],
   "metadata": {
    "collapsed": false,
    "ExecuteTime": {
     "end_time": "2024-06-10T04:30:35.315611900Z",
     "start_time": "2024-06-10T04:30:35.283857800Z"
    }
   },
   "id": "9fe017dc36cb2aaa"
  },
  {
   "cell_type": "code",
   "execution_count": 26,
   "outputs": [
    {
     "ename": "NameError",
     "evalue": "name 'mean' is not defined",
     "output_type": "error",
     "traceback": [
      "\u001B[1;31m---------------------------------------------------------------------------\u001B[0m",
      "\u001B[1;31mNameError\u001B[0m                                 Traceback (most recent call last)",
      "Cell \u001B[1;32mIn[26], line 1\u001B[0m\n\u001B[1;32m----> 1\u001B[0m \u001B[43mmean\u001B[49m(\u001B[38;5;241m1\u001B[39m,\u001B[38;5;241m2\u001B[39m,\u001B[38;5;241m3\u001B[39m,\u001B[38;5;241m4\u001B[39m)\n",
      "\u001B[1;31mNameError\u001B[0m: name 'mean' is not defined"
     ]
    }
   ],
   "source": [
    "mean(1,2,3,4)"
   ],
   "metadata": {
    "collapsed": false,
    "ExecuteTime": {
     "end_time": "2024-06-10T04:51:54.861966200Z",
     "start_time": "2024-06-10T04:51:54.830804200Z"
    }
   },
   "id": "56a01db369ddb10"
  },
  {
   "cell_type": "code",
   "execution_count": 17,
   "outputs": [
    {
     "data": {
      "text/plain": "TensorShape([100, 128])"
     },
     "execution_count": 17,
     "metadata": {},
     "output_type": "execute_result"
    }
   ],
   "source": [
    "temp.shape"
   ],
   "metadata": {
    "collapsed": false,
    "ExecuteTime": {
     "end_time": "2024-06-10T03:48:34.550004100Z",
     "start_time": "2024-06-10T03:48:34.519805100Z"
    }
   },
   "id": "54093300f11d1294"
  },
  {
   "metadata": {
    "ExecuteTime": {
     "end_time": "2024-06-09T17:17:51.360643Z",
     "start_time": "2024-06-09T17:17:51.345001Z"
    }
   },
   "cell_type": "code",
   "source": [
    "x_data = np.random.sample((100, 24)).astype(np.float32)\n",
    "y_data = np.random.sample((100, 24)).astype(np.float32)\n",
    "dataset = tf.data.Dataset.from_tensor_slices((x_data, y_data))\n",
    "dataset = dataset.batch(batch_size=32).prefetch(buffer_size=tf.data.experimental.AUTOTUNE)"
   ],
   "id": "8207dec625d82879",
   "outputs": [],
   "execution_count": 6
  },
  {
   "metadata": {
    "ExecuteTime": {
     "end_time": "2024-06-09T17:17:51.376475Z",
     "start_time": "2024-06-09T17:17:51.360643Z"
    }
   },
   "cell_type": "code",
   "source": [
    "tt = USAD(24, 10, [64, 32], [32, 64], 50, 32, .001)"
   ],
   "id": "329bc7b84701d575",
   "outputs": [],
   "execution_count": 7
  },
  {
   "metadata": {
    "ExecuteTime": {
     "end_time": "2024-06-09T17:18:03.990045Z",
     "start_time": "2024-06-09T17:17:59.666736Z"
    }
   },
   "cell_type": "code",
   "source": [
    "hist = tt.fit(dataset)"
   ],
   "id": "3471f0659c956e31",
   "outputs": [
    {
     "name": "stdout",
     "output_type": "stream",
     "text": [
      "epoch 1 train1_loss: 0.08437865972518921 | train2_loss: 0.4332229197025299 | 0.09 sec\n",
      "epoch 2 train1_loss: 0.2566564679145813 | train2_loss: 7.3462724685668945e-06 | 0.08 sec\n",
      "epoch 3 train1_loss: 0.31402066349983215 | train2_loss: -0.14336872100830078 | 0.06 sec\n",
      "epoch 4 train1_loss: 0.34355050325393677 | train2_loss: -0.21550092101097107 | 0.10 sec\n",
      "epoch 5 train1_loss: 0.3620584011077881 | train2_loss: -0.259445458650589 | 0.08 sec\n",
      "epoch 6 train1_loss: 0.37482571601867676 | train2_loss: -0.2891600430011749 | 0.08 sec\n",
      "epoch 7 train1_loss: 0.38408902287483215 | train2_loss: -0.31055715680122375 | 0.09 sec\n",
      "epoch 8 train1_loss: 0.39107468724250793 | train2_loss: -0.32666727900505066 | 0.08 sec\n",
      "epoch 9 train1_loss: 0.3964662253856659 | train2_loss: -0.33917808532714844 | 0.10 sec\n",
      "epoch 10 train1_loss: 0.4007403254508972 | train2_loss: -0.3491612672805786 | 0.07 sec\n",
      "epoch 11 train1_loss: 0.40420323610305786 | train2_loss: -0.35730355978012085 | 0.08 sec\n",
      "epoch 12 train1_loss: 0.40706202387809753 | train2_loss: -0.36406680941581726 | 0.08 sec\n",
      "epoch 13 train1_loss: 0.40946242213249207 | train2_loss: -0.369773805141449 | 0.09 sec\n",
      "epoch 14 train1_loss: 0.41150686144828796 | train2_loss: -0.3746541440486908 | 0.08 sec\n",
      "epoch 15 train1_loss: 0.41326940059661865 | train2_loss: -0.3788757622241974 | 0.08 sec\n",
      "epoch 16 train1_loss: 0.41480502486228943 | train2_loss: -0.3825640380382538 | 0.09 sec\n",
      "epoch 17 train1_loss: 0.4161556363105774 | train2_loss: -0.38581445813179016 | 0.08 sec\n",
      "epoch 18 train1_loss: 0.4173530638217926 | train2_loss: -0.388700932264328 | 0.08 sec\n",
      "epoch 19 train1_loss: 0.41842207312583923 | train2_loss: -0.3912810981273651 | 0.09 sec\n",
      "epoch 20 train1_loss: 0.4193834364414215 | train2_loss: -0.3936021625995636 | 0.08 sec\n",
      "epoch 21 train1_loss: 0.4202527701854706 | train2_loss: -0.39570149779319763 | 0.08 sec\n",
      "epoch 22 train1_loss: 0.421041876077652 | train2_loss: -0.3976089060306549 | 0.08 sec\n",
      "epoch 23 train1_loss: 0.4217616021633148 | train2_loss: -0.3993498384952545 | 0.08 sec\n",
      "epoch 24 train1_loss: 0.4224207401275635 | train2_loss: -0.400945246219635 | 0.09 sec\n",
      "epoch 25 train1_loss: 0.4230267405509949 | train2_loss: -0.4024125933647156 | 0.09 sec\n",
      "epoch 26 train1_loss: 0.4235861897468567 | train2_loss: -0.4037669599056244 | 0.09 sec\n",
      "epoch 27 train1_loss: 0.42410406470298767 | train2_loss: -0.4050208032131195 | 0.09 sec\n",
      "epoch 28 train1_loss: 0.42458465695381165 | train2_loss: -0.4061848819255829 | 0.09 sec\n",
      "epoch 29 train1_loss: 0.4250318109989166 | train2_loss: -0.4072684049606323 | 0.08 sec\n",
      "epoch 30 train1_loss: 0.4254492521286011 | train2_loss: -0.40827974677085876 | 0.08 sec\n",
      "epoch 31 train1_loss: 0.42583954334259033 | train2_loss: -0.4092256724834442 | 0.09 sec\n",
      "epoch 32 train1_loss: 0.42620524764060974 | train2_loss: -0.4101123511791229 | 0.09 sec\n",
      "epoch 33 train1_loss: 0.4265487790107727 | train2_loss: -0.41094523668289185 | 0.08 sec\n",
      "epoch 34 train1_loss: 0.4268721640110016 | train2_loss: -0.4117291271686554 | 0.08 sec\n",
      "epoch 35 train1_loss: 0.427176833152771 | train2_loss: -0.4124680459499359 | 0.09 sec\n",
      "epoch 36 train1_loss: 0.42746463418006897 | train2_loss: -0.41316595673561096 | 0.08 sec\n",
      "epoch 37 train1_loss: 0.4277367889881134 | train2_loss: -0.413826048374176 | 0.09 sec\n",
      "epoch 38 train1_loss: 0.4279945492744446 | train2_loss: -0.41445136070251465 | 0.08 sec\n",
      "epoch 39 train1_loss: 0.42823904752731323 | train2_loss: -0.4150445759296417 | 0.09 sec\n",
      "epoch 40 train1_loss: 0.42847123742103577 | train2_loss: -0.41560810804367065 | 0.09 sec\n",
      "epoch 41 train1_loss: 0.428692102432251 | train2_loss: -0.41614410281181335 | 0.08 sec\n",
      "epoch 42 train1_loss: 0.4289023280143738 | train2_loss: -0.4166545271873474 | 0.08 sec\n",
      "epoch 43 train1_loss: 0.4291027784347534 | train2_loss: -0.4171411693096161 | 0.08 sec\n",
      "epoch 44 train1_loss: 0.42929404973983765 | train2_loss: -0.4176056683063507 | 0.08 sec\n",
      "epoch 45 train1_loss: 0.4294768273830414 | train2_loss: -0.41804951429367065 | 0.08 sec\n",
      "epoch 46 train1_loss: 0.4296516180038452 | train2_loss: -0.4184740483760834 | 0.08 sec\n",
      "epoch 47 train1_loss: 0.4298188388347626 | train2_loss: -0.418880432844162 | 0.08 sec\n",
      "epoch 48 train1_loss: 0.4299791157245636 | train2_loss: -0.41926994919776917 | 0.08 sec\n",
      "epoch 49 train1_loss: 0.43013283610343933 | train2_loss: -0.4196435213088989 | 0.10 sec\n",
      "epoch 50 train1_loss: 0.43028029799461365 | train2_loss: -0.4200021028518677 | 0.08 sec\n"
     ]
    }
   ],
   "execution_count": 9
  }
 ],
 "metadata": {
  "kernelspec": {
   "display_name": "Python 3",
   "language": "python",
   "name": "python3"
  },
  "language_info": {
   "codemirror_mode": {
    "name": "ipython",
    "version": 2
   },
   "file_extension": ".py",
   "mimetype": "text/x-python",
   "name": "python",
   "nbconvert_exporter": "python",
   "pygments_lexer": "ipython2",
   "version": "2.7.6"
  }
 },
 "nbformat": 4,
 "nbformat_minor": 5
}
